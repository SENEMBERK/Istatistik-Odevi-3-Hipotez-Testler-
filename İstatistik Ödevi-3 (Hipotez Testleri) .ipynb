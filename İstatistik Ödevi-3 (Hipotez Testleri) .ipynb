{
 "cells": [
  {
   "cell_type": "code",
   "execution_count": 3,
   "id": "851ee2d5",
   "metadata": {},
   "outputs": [],
   "source": [
    "import numpy as np\n",
    "from scipy import stats\n",
    "import pandas as pd\n",
    "import seaborn as sns\n",
    "pd.set_option('display.max_columns', None)\n",
    "pd.set_option('display.max_rows', 20)\n",
    "pd.set_option('display.float_format', lambda x: '%.3f' % x)\n",
    "pd.set_option('display.width', 170)"
   ]
  },
  {
   "cell_type": "markdown",
   "id": "d721751c",
   "metadata": {},
   "source": [
    "**EGZERSİZ 1. Belirli bir sektördeki saatlik ücretler normalde ortalama 13,20 dolar ve standart sapma 2,50 dolar ile dağıtılır. Bu sektördeki bir şirket, 40 işçi çalıştırıyor ve onlara saatte ortalama 12.20 dolar ödüyor. Bu şirket standartların altında ücretler ödemekle suçlanabilir mi? α = .01 seviye testi kullanın. (Wackerly, Ör. 10.18)\n",
    "KONTROL: istatistik: -2.5298221281347035, pvalue= 0.005706018193000826 "
   ]
  },
  {
   "cell_type": "code",
   "execution_count": null,
   "id": "884e879f",
   "metadata": {},
   "outputs": [],
   "source": [
    "#H0: Mu1  = 12.20 \n",
    "#H1: Mu1 < 12.20"
   ]
  },
  {
   "cell_type": "code",
   "execution_count": 4,
   "id": "210fdb2b",
   "metadata": {},
   "outputs": [],
   "source": [
    "xbar  = 12.2\n",
    "sigma = 2.5\n",
    "n = 40\n",
    "mu = 13.2"
   ]
  },
  {
   "cell_type": "code",
   "execution_count": 5,
   "id": "87c5c858",
   "metadata": {},
   "outputs": [
    {
     "data": {
      "text/plain": [
       "-2.5298221281347035"
      ]
     },
     "execution_count": 5,
     "metadata": {},
     "output_type": "execute_result"
    }
   ],
   "source": [
    "z = (xbar-mu) / (sigma / np.sqrt(n)) \n",
    "z\n",
    "# istatistik: -2.5298221281347035"
   ]
  },
  {
   "cell_type": "code",
   "execution_count": 6,
   "id": "84318248",
   "metadata": {},
   "outputs": [
    {
     "data": {
      "text/plain": [
       "0.005706018193000826"
      ]
     },
     "execution_count": 6,
     "metadata": {},
     "output_type": "execute_result"
    }
   ],
   "source": [
    "p = stats.norm.cdf(z)   \n",
    "p\n",
    "# pvalue= 0.005706018193000826"
   ]
  },
  {
   "cell_type": "code",
   "execution_count": null,
   "id": "090a474d",
   "metadata": {},
   "outputs": [],
   "source": [
    "# Normal dağılım varsayımı altında;\n",
    "# p<0.01. H0'ı reddet. Şirket, standart altı ücretler ödemekle suçlanabilir."
   ]
  },
  {
   "cell_type": "markdown",
   "id": "8df27188",
   "metadata": {},
   "source": [
    "**EGZERSİZ 2. İki tip toprak için sınırsız sıkıştırma testlerinden elde edilen kayma mukavemeti ölçümleri, aşağıdaki belgede gösterilen sonuçları vermiştir (metrekare başına ton cinsinden ölçümler). Topraklar ortalama kesme mukavemetine göre %1 anlamlılık seviyesinde farklılık gösteriyor mu?\n",
    "\n",
    "İki tür toprak için sonuçlar\n",
    "\n",
    "KONTROL: istatistik: 5.1681473319343345, pvalue= 2.593228732352821e-06"
   ]
  },
  {
   "cell_type": "code",
   "execution_count": 13,
   "id": "51fc7d5a",
   "metadata": {},
   "outputs": [
    {
     "data": {
      "text/html": [
       "<div>\n",
       "<style scoped>\n",
       "    .dataframe tbody tr th:only-of-type {\n",
       "        vertical-align: middle;\n",
       "    }\n",
       "\n",
       "    .dataframe tbody tr th {\n",
       "        vertical-align: top;\n",
       "    }\n",
       "\n",
       "    .dataframe thead th {\n",
       "        text-align: right;\n",
       "    }\n",
       "</style>\n",
       "<table border=\"1\" class=\"dataframe\">\n",
       "  <thead>\n",
       "    <tr style=\"text-align: right;\">\n",
       "      <th></th>\n",
       "      <th>Soil1</th>\n",
       "      <th>Soil2</th>\n",
       "    </tr>\n",
       "  </thead>\n",
       "  <tbody>\n",
       "    <tr>\n",
       "      <th>0</th>\n",
       "      <td>1.442</td>\n",
       "      <td>1.364</td>\n",
       "    </tr>\n",
       "    <tr>\n",
       "      <th>1</th>\n",
       "      <td>1.943</td>\n",
       "      <td>1.878</td>\n",
       "    </tr>\n",
       "    <tr>\n",
       "      <th>2</th>\n",
       "      <td>1.110</td>\n",
       "      <td>1.337</td>\n",
       "    </tr>\n",
       "    <tr>\n",
       "      <th>3</th>\n",
       "      <td>1.912</td>\n",
       "      <td>1.828</td>\n",
       "    </tr>\n",
       "    <tr>\n",
       "      <th>4</th>\n",
       "      <td>1.553</td>\n",
       "      <td>1.371</td>\n",
       "    </tr>\n",
       "    <tr>\n",
       "      <th>...</th>\n",
       "      <td>...</td>\n",
       "      <td>...</td>\n",
       "    </tr>\n",
       "    <tr>\n",
       "      <th>30</th>\n",
       "      <td>NaN</td>\n",
       "      <td>1.593</td>\n",
       "    </tr>\n",
       "    <tr>\n",
       "      <th>31</th>\n",
       "      <td>NaN</td>\n",
       "      <td>1.172</td>\n",
       "    </tr>\n",
       "    <tr>\n",
       "      <th>32</th>\n",
       "      <td>NaN</td>\n",
       "      <td>1.510</td>\n",
       "    </tr>\n",
       "    <tr>\n",
       "      <th>33</th>\n",
       "      <td>NaN</td>\n",
       "      <td>1.740</td>\n",
       "    </tr>\n",
       "    <tr>\n",
       "      <th>34</th>\n",
       "      <td>NaN</td>\n",
       "      <td>1.355</td>\n",
       "    </tr>\n",
       "  </tbody>\n",
       "</table>\n",
       "<p>35 rows × 2 columns</p>\n",
       "</div>"
      ],
      "text/plain": [
       "    Soil1  Soil2\n",
       "0   1.442  1.364\n",
       "1   1.943  1.878\n",
       "2   1.110  1.337\n",
       "3   1.912  1.828\n",
       "4   1.553  1.371\n",
       "..    ...    ...\n",
       "30    NaN  1.593\n",
       "31    NaN  1.172\n",
       "32    NaN  1.510\n",
       "33    NaN  1.740\n",
       "34    NaN  1.355\n",
       "\n",
       "[35 rows x 2 columns]"
      ]
     },
     "execution_count": 13,
     "metadata": {},
     "output_type": "execute_result"
    }
   ],
   "source": [
    "df = pd.read_csv(\"soil - Sheet1.csv\")\n",
    "df"
   ]
  },
  {
   "cell_type": "code",
   "execution_count": null,
   "id": "1ddd4dae",
   "metadata": {},
   "outputs": [],
   "source": [
    "# Hipotez\n",
    "# H0: Ortaya çıkan topraklar ortalamaya göre farklılık göstermez\n",
    "# H1: Topraklar ortalamaya göre farklılık gösteriyor.\n",
    "# Varsayımlar\n",
    "# Normallik\n",
    "# H0: Ortalamanın örnekleme dağılımı normaldir\n",
    "# H1: Ortalamanın örnekleme dağılımı normal değil"
   ]
  },
  {
   "cell_type": "code",
   "execution_count": null,
   "id": "3b4ff875",
   "metadata": {},
   "outputs": [],
   "source": [
    "toprak, pvalue = stats.shapiro(df[\"Soil1\"].dropna())\n",
    "print('toprak = %.4f, p-value = %.4f' % (toprak, pvalue))"
   ]
  },
  {
   "cell_type": "code",
   "execution_count": null,
   "id": "66fd82b8",
   "metadata": {},
   "outputs": [],
   "source": [
    "# H0 reddedilemedi. Ortalamanın örnekleme dağılımı normaldir"
   ]
  },
  {
   "cell_type": "code",
   "execution_count": 51,
   "id": "f650c7b6",
   "metadata": {},
   "outputs": [
    {
     "name": "stdout",
     "output_type": "stream",
     "text": [
      "toprak = 0.9684, p-value = 0.4012\n"
     ]
    }
   ],
   "source": [
    "toprak, pvalue = stats.shapiro(df[\"Soil2\"])\n",
    "print('toprak = %.4f, p-value = %.4f' % (toprak, pvalue))"
   ]
  },
  {
   "cell_type": "code",
   "execution_count": null,
   "id": "34a4a61d",
   "metadata": {},
   "outputs": [],
   "source": [
    "# H0 reddedilemedi. Ortalamanın örnekleme dağılımı normaldir"
   ]
  },
  {
   "cell_type": "code",
   "execution_count": null,
   "id": "421ca005",
   "metadata": {},
   "outputs": [],
   "source": [
    "# Varyans\n",
    "# H0: Örnekleme varyansı normaldir\n",
    "# H1: Örnekleme varyansı normal değil"
   ]
  },
  {
   "cell_type": "code",
   "execution_count": 52,
   "id": "0a335483",
   "metadata": {},
   "outputs": [
    {
     "name": "stdout",
     "output_type": "stream",
     "text": [
      "toprak = 0.3149, p-value = 0.5767\n"
     ]
    }
   ],
   "source": [
    "toprak, pvalue = stats.levene(df[\"Soil1\"].dropna(), df[\"Soil2\"])\n",
    "print('toprak = %.4f, p-value = %.4f' % (toprak, pvalue))"
   ]
  },
  {
   "cell_type": "code",
   "execution_count": null,
   "id": "644320a6",
   "metadata": {},
   "outputs": [],
   "source": [
    "# H0 reddedilemedi. Örnekleme varyansı normaldir"
   ]
  },
  {
   "cell_type": "code",
   "execution_count": 15,
   "id": "eb7ee602",
   "metadata": {},
   "outputs": [],
   "source": [
    "toprak, pvalue = stats.ttest_ind(df[\"Soil1\"].dropna(),df[\"Soil2\"])"
   ]
  },
  {
   "cell_type": "code",
   "execution_count": 16,
   "id": "cd0cf7ae",
   "metadata": {},
   "outputs": [],
   "source": [
    "# (5.1681473319343345, 2.593228732352821e-06)\n",
    "#p<0.01. H0'ı reddet. Toprakların ortalamaya göre farklılık gösterdiği görülmektedir."
   ]
  },
  {
   "cell_type": "markdown",
   "id": "e9ad9b48",
   "metadata": {},
   "source": [
    "**EGZERSİZ 3. Aşağıdaki veri kümesi, Dünya Bankası (https://datacatalog.worldbank.org/dataset/education-statistics) tarafından sağlanan verilere dayanmaktadır. Dünya Bankası Edstats. 2015 PISA Test Veri Kümesi\n",
    "Her kıta grubu (AS, AB, AF, NA, SA, OC) için açıklayıcı istatistikler (veri kümesinin dağılımının merkezi eğilimi, dağılımı ve şekli) alın.\n",
    "Avrupa (AB) ve Asya (AS) ülkeleri arasında matematik puanları için herhangi bir fark (ortalamada) olup olmadığını belirleyin (normallik ve eşit varyanslar olduğunu varsayalım). Yan yana kutu grafikleri çizin.\n",
    "KONTROL: istatistik = 0.870055317967983, pvalue = 0.38826888111307345"
   ]
  },
  {
   "cell_type": "code",
   "execution_count": 17,
   "id": "27a50d80",
   "metadata": {},
   "outputs": [
    {
     "data": {
      "text/html": [
       "<div>\n",
       "<style scoped>\n",
       "    .dataframe tbody tr th:only-of-type {\n",
       "        vertical-align: middle;\n",
       "    }\n",
       "\n",
       "    .dataframe tbody tr th {\n",
       "        vertical-align: top;\n",
       "    }\n",
       "\n",
       "    .dataframe thead tr th {\n",
       "        text-align: left;\n",
       "    }\n",
       "\n",
       "    .dataframe thead tr:last-of-type th {\n",
       "        text-align: right;\n",
       "    }\n",
       "</style>\n",
       "<table border=\"1\" class=\"dataframe\">\n",
       "  <thead>\n",
       "    <tr>\n",
       "      <th></th>\n",
       "      <th colspan=\"8\" halign=\"left\">internet_users_per_100</th>\n",
       "      <th colspan=\"8\" halign=\"left\">Math</th>\n",
       "      <th colspan=\"8\" halign=\"left\">Reading</th>\n",
       "      <th colspan=\"8\" halign=\"left\">Science</th>\n",
       "    </tr>\n",
       "    <tr>\n",
       "      <th></th>\n",
       "      <th>count</th>\n",
       "      <th>mean</th>\n",
       "      <th>std</th>\n",
       "      <th>min</th>\n",
       "      <th>25%</th>\n",
       "      <th>50%</th>\n",
       "      <th>75%</th>\n",
       "      <th>max</th>\n",
       "      <th>count</th>\n",
       "      <th>mean</th>\n",
       "      <th>std</th>\n",
       "      <th>min</th>\n",
       "      <th>25%</th>\n",
       "      <th>50%</th>\n",
       "      <th>75%</th>\n",
       "      <th>max</th>\n",
       "      <th>count</th>\n",
       "      <th>mean</th>\n",
       "      <th>std</th>\n",
       "      <th>min</th>\n",
       "      <th>25%</th>\n",
       "      <th>50%</th>\n",
       "      <th>75%</th>\n",
       "      <th>max</th>\n",
       "      <th>count</th>\n",
       "      <th>mean</th>\n",
       "      <th>std</th>\n",
       "      <th>min</th>\n",
       "      <th>25%</th>\n",
       "      <th>50%</th>\n",
       "      <th>75%</th>\n",
       "      <th>max</th>\n",
       "    </tr>\n",
       "    <tr>\n",
       "      <th>Continent_Code</th>\n",
       "      <th></th>\n",
       "      <th></th>\n",
       "      <th></th>\n",
       "      <th></th>\n",
       "      <th></th>\n",
       "      <th></th>\n",
       "      <th></th>\n",
       "      <th></th>\n",
       "      <th></th>\n",
       "      <th></th>\n",
       "      <th></th>\n",
       "      <th></th>\n",
       "      <th></th>\n",
       "      <th></th>\n",
       "      <th></th>\n",
       "      <th></th>\n",
       "      <th></th>\n",
       "      <th></th>\n",
       "      <th></th>\n",
       "      <th></th>\n",
       "      <th></th>\n",
       "      <th></th>\n",
       "      <th></th>\n",
       "      <th></th>\n",
       "      <th></th>\n",
       "      <th></th>\n",
       "      <th></th>\n",
       "      <th></th>\n",
       "      <th></th>\n",
       "      <th></th>\n",
       "      <th></th>\n",
       "      <th></th>\n",
       "    </tr>\n",
       "  </thead>\n",
       "  <tbody>\n",
       "    <tr>\n",
       "      <th>AF</th>\n",
       "      <td>2.000</td>\n",
       "      <td>43.360</td>\n",
       "      <td>7.297</td>\n",
       "      <td>38.200</td>\n",
       "      <td>40.780</td>\n",
       "      <td>43.360</td>\n",
       "      <td>45.940</td>\n",
       "      <td>48.520</td>\n",
       "      <td>2.000</td>\n",
       "      <td>363.212</td>\n",
       "      <td>5.100</td>\n",
       "      <td>359.606</td>\n",
       "      <td>361.409</td>\n",
       "      <td>363.212</td>\n",
       "      <td>365.015</td>\n",
       "      <td>366.818</td>\n",
       "      <td>2.000</td>\n",
       "      <td>355.457</td>\n",
       "      <td>7.917</td>\n",
       "      <td>349.859</td>\n",
       "      <td>352.658</td>\n",
       "      <td>355.457</td>\n",
       "      <td>358.256</td>\n",
       "      <td>361.055</td>\n",
       "      <td>2.000</td>\n",
       "      <td>381.074</td>\n",
       "      <td>7.537</td>\n",
       "      <td>375.745</td>\n",
       "      <td>378.410</td>\n",
       "      <td>381.074</td>\n",
       "      <td>383.739</td>\n",
       "      <td>386.403</td>\n",
       "    </tr>\n",
       "    <tr>\n",
       "      <th>AS</th>\n",
       "      <td>17.000</td>\n",
       "      <td>68.456</td>\n",
       "      <td>21.086</td>\n",
       "      <td>21.976</td>\n",
       "      <td>50.300</td>\n",
       "      <td>74.000</td>\n",
       "      <td>84.948</td>\n",
       "      <td>92.885</td>\n",
       "      <td>17.000</td>\n",
       "      <td>466.217</td>\n",
       "      <td>64.356</td>\n",
       "      <td>380.259</td>\n",
       "      <td>403.833</td>\n",
       "      <td>459.816</td>\n",
       "      <td>531.296</td>\n",
       "      <td>564.190</td>\n",
       "      <td>17.000</td>\n",
       "      <td>454.060</td>\n",
       "      <td>57.049</td>\n",
       "      <td>346.549</td>\n",
       "      <td>408.102</td>\n",
       "      <td>433.542</td>\n",
       "      <td>508.690</td>\n",
       "      <td>535.100</td>\n",
       "      <td>17.000</td>\n",
       "      <td>467.946</td>\n",
       "      <td>56.671</td>\n",
       "      <td>386.485</td>\n",
       "      <td>417.611</td>\n",
       "      <td>456.484</td>\n",
       "      <td>523.277</td>\n",
       "      <td>555.575</td>\n",
       "    </tr>\n",
       "    <tr>\n",
       "      <th>EU</th>\n",
       "      <td>37.000</td>\n",
       "      <td>77.275</td>\n",
       "      <td>12.426</td>\n",
       "      <td>53.745</td>\n",
       "      <td>68.633</td>\n",
       "      <td>76.184</td>\n",
       "      <td>87.479</td>\n",
       "      <td>98.200</td>\n",
       "      <td>37.000</td>\n",
       "      <td>477.981</td>\n",
       "      <td>35.150</td>\n",
       "      <td>371.311</td>\n",
       "      <td>464.040</td>\n",
       "      <td>489.729</td>\n",
       "      <td>503.722</td>\n",
       "      <td>521.251</td>\n",
       "      <td>37.000</td>\n",
       "      <td>476.165</td>\n",
       "      <td>37.721</td>\n",
       "      <td>351.741</td>\n",
       "      <td>452.514</td>\n",
       "      <td>487.250</td>\n",
       "      <td>499.815</td>\n",
       "      <td>526.425</td>\n",
       "      <td>37.000</td>\n",
       "      <td>478.299</td>\n",
       "      <td>34.451</td>\n",
       "      <td>383.682</td>\n",
       "      <td>460.775</td>\n",
       "      <td>490.225</td>\n",
       "      <td>501.937</td>\n",
       "      <td>534.194</td>\n",
       "    </tr>\n",
       "    <tr>\n",
       "      <th>OC</th>\n",
       "      <td>2.000</td>\n",
       "      <td>86.392</td>\n",
       "      <td>2.590</td>\n",
       "      <td>84.561</td>\n",
       "      <td>85.476</td>\n",
       "      <td>86.392</td>\n",
       "      <td>87.307</td>\n",
       "      <td>88.223</td>\n",
       "      <td>2.000</td>\n",
       "      <td>494.560</td>\n",
       "      <td>0.938</td>\n",
       "      <td>493.896</td>\n",
       "      <td>494.228</td>\n",
       "      <td>494.560</td>\n",
       "      <td>494.892</td>\n",
       "      <td>495.223</td>\n",
       "      <td>2.000</td>\n",
       "      <td>506.086</td>\n",
       "      <td>4.504</td>\n",
       "      <td>502.901</td>\n",
       "      <td>504.493</td>\n",
       "      <td>506.086</td>\n",
       "      <td>507.678</td>\n",
       "      <td>509.271</td>\n",
       "      <td>2.000</td>\n",
       "      <td>511.649</td>\n",
       "      <td>2.340</td>\n",
       "      <td>509.994</td>\n",
       "      <td>510.821</td>\n",
       "      <td>511.649</td>\n",
       "      <td>512.476</td>\n",
       "      <td>513.303</td>\n",
       "    </tr>\n",
       "    <tr>\n",
       "      <th>SA</th>\n",
       "      <td>7.000</td>\n",
       "      <td>60.180</td>\n",
       "      <td>9.772</td>\n",
       "      <td>40.900</td>\n",
       "      <td>57.116</td>\n",
       "      <td>64.289</td>\n",
       "      <td>66.322</td>\n",
       "      <td>69.198</td>\n",
       "      <td>7.000</td>\n",
       "      <td>402.888</td>\n",
       "      <td>18.129</td>\n",
       "      <td>377.070</td>\n",
       "      <td>388.102</td>\n",
       "      <td>409.033</td>\n",
       "      <td>417.618</td>\n",
       "      <td>422.671</td>\n",
       "      <td>7.000</td>\n",
       "      <td>425.359</td>\n",
       "      <td>19.710</td>\n",
       "      <td>397.541</td>\n",
       "      <td>416.127</td>\n",
       "      <td>425.303</td>\n",
       "      <td>431.923</td>\n",
       "      <td>458.571</td>\n",
       "      <td>7.000</td>\n",
       "      <td>421.747</td>\n",
       "      <td>18.470</td>\n",
       "      <td>396.684</td>\n",
       "      <td>408.205</td>\n",
       "      <td>424.591</td>\n",
       "      <td>433.795</td>\n",
       "      <td>446.956</td>\n",
       "    </tr>\n",
       "  </tbody>\n",
       "</table>\n",
       "</div>"
      ],
      "text/plain": [
       "               internet_users_per_100                                                    Math                                                        Reading          \\\n",
       "                                count   mean    std    min    25%    50%    75%    max  count    mean    std     min     25%     50%     75%     max   count    mean   \n",
       "Continent_Code                                                                                                                                                         \n",
       "AF                              2.000 43.360  7.297 38.200 40.780 43.360 45.940 48.520  2.000 363.212  5.100 359.606 361.409 363.212 365.015 366.818   2.000 355.457   \n",
       "AS                             17.000 68.456 21.086 21.976 50.300 74.000 84.948 92.885 17.000 466.217 64.356 380.259 403.833 459.816 531.296 564.190  17.000 454.060   \n",
       "EU                             37.000 77.275 12.426 53.745 68.633 76.184 87.479 98.200 37.000 477.981 35.150 371.311 464.040 489.729 503.722 521.251  37.000 476.165   \n",
       "OC                              2.000 86.392  2.590 84.561 85.476 86.392 87.307 88.223  2.000 494.560  0.938 493.896 494.228 494.560 494.892 495.223   2.000 506.086   \n",
       "SA                              7.000 60.180  9.772 40.900 57.116 64.289 66.322 69.198  7.000 402.888 18.129 377.070 388.102 409.033 417.618 422.671   7.000 425.359   \n",
       "\n",
       "                                                              Science                                                         \n",
       "                  std     min     25%     50%     75%     max   count    mean    std     min     25%     50%     75%     max  \n",
       "Continent_Code                                                                                                                \n",
       "AF              7.917 349.859 352.658 355.457 358.256 361.055   2.000 381.074  7.537 375.745 378.410 381.074 383.739 386.403  \n",
       "AS             57.049 346.549 408.102 433.542 508.690 535.100  17.000 467.946 56.671 386.485 417.611 456.484 523.277 555.575  \n",
       "EU             37.721 351.741 452.514 487.250 499.815 526.425  37.000 478.299 34.451 383.682 460.775 490.225 501.937 534.194  \n",
       "OC              4.504 502.901 504.493 506.086 507.678 509.271   2.000 511.649  2.340 509.994 510.821 511.649 512.476 513.303  \n",
       "SA             19.710 397.541 416.127 425.303 431.923 458.571   7.000 421.747 18.470 396.684 408.205 424.591 433.795 446.956  "
      ]
     },
     "execution_count": 17,
     "metadata": {},
     "output_type": "execute_result"
    }
   ],
   "source": [
    "df_ = pd.read_csv(\"2015 PISA Test - Sheet.csv\")\n",
    "df_.head()\n",
    "df_.shape\n",
    "df_.groupby([\"Continent_Code\"]).describe()"
   ]
  },
  {
   "cell_type": "code",
   "execution_count": null,
   "id": "4dc7d9f5",
   "metadata": {},
   "outputs": [],
   "source": [
    "# Normallik ve eşit varyans varsayımı altında\n",
    "# H0: Avrupa (AB) ve Asya (AS) arasında matematik puanları için (ortalama olarak) herhangi bir fark yoktur.\n",
    "# H1: Avrupa (AB) ve Asya (AS) arasında matematik puanları için (ortalama olarak) herhangi bir fark var"
   ]
  },
  {
   "cell_type": "code",
   "execution_count": 18,
   "id": "d96cc49f",
   "metadata": {},
   "outputs": [],
   "source": [
    "test_stat, pvalue = stats.ttest_ind(df_.loc[df_[\"Continent_Code\"] == \"EU\", \"Math\"],\n",
    "                              df_.loc[df_[\"Continent_Code\"] == \"AS\", \"Math\"],\n",
    "                              equal_var=True) "
   ]
  },
  {
   "cell_type": "code",
   "execution_count": null,
   "id": "9efb43a3",
   "metadata": {},
   "outputs": [],
   "source": [
    "# (0.870055317967983, 0.38826888111307345)\n",
    "#p>0.05. H0 reddedilemedi. Hiçbir fark yok..."
   ]
  },
  {
   "cell_type": "code",
   "execution_count": 19,
   "id": "da981d12",
   "metadata": {},
   "outputs": [
    {
     "data": {
      "text/plain": [
       "<AxesSubplot:xlabel='Continent_Code', ylabel='Math'>"
      ]
     },
     "execution_count": 19,
     "metadata": {},
     "output_type": "execute_result"
    },
    {
     "data": {
      "image/png": "[encoded data removed]",
      "text/plain": [
       "<Figure size 432x288 with 1 Axes>"
      ]
     },
     "metadata": {
      "needs_background": "light"
     },
     "output_type": "display_data"
    }
   ],
   "source": [
    "df_new = df_[(df_[\"Continent_Code\"] == 'EU') | (df_[\"Continent_Code\"] == 'AS')]\n",
    "sns.boxplot(x=df_new[\"Continent_Code\"], y=df_new['Math'])"
   ]
  },
  {
   "cell_type": "markdown",
   "id": "2a07330d",
   "metadata": {},
   "source": [
    "**EGZERSİZ 4. Bir spor salonu işletmecisi, aşırı kilolarından muzdarip 15 müşteri için 2 aylık bir egzersiz ve diyet programı düzenledi. Bu diyet programının etkili olup olmadığını değerlendirmek için müşterilerin başlangıç ve bitiş ağırlıklarını ölçtü ve bilgisayara kaydetti. Egzersiz ve diyet programının müşterilerin kilo kaybı üzerinde bir etkisi oldu mu? α = .01 seviye testi kullanın. Ağırlık Veri Kümesi\n",
    "\n",
    "KONTROL: istatistik = 2.67808348404993, pvalue = 0.00900646517506627"
   ]
  },
  {
   "cell_type": "code",
   "execution_count": 20,
   "id": "5c2b203d",
   "metadata": {},
   "outputs": [],
   "source": [
    "df = pd.read_csv(\"weight - Sheet.csv\")\n",
    "df.head()\n",
    "df[\"dbar\"] = df[\"starting\"] - df[\"ending\"]"
   ]
  },
  {
   "cell_type": "code",
   "execution_count": 11,
   "id": "893f1fd4",
   "metadata": {},
   "outputs": [],
   "source": [
    "# H0: dbar = 0\n",
    "# H1: dbar > 0"
   ]
  },
  {
   "cell_type": "code",
   "execution_count": 21,
   "id": "2255dc9e",
   "metadata": {},
   "outputs": [
    {
     "data": {
      "text/plain": [
       "Ttest_relResult(statistic=nan, pvalue=nan)"
      ]
     },
     "execution_count": 21,
     "metadata": {},
     "output_type": "execute_result"
    }
   ],
   "source": [
    "stats.ttest_rel(df.starting, df.ending, alternative = \"greater\")"
   ]
  },
  {
   "cell_type": "code",
   "execution_count": null,
   "id": "8118f1b5",
   "metadata": {},
   "outputs": [],
   "source": [
    "# Ttest_relResult(istatistik=2.6780834840499255, pdeğeri=0.00900646517506626)\n",
    "# p < 0.01. H0'ı reddet. Demek ki diyet programı etkiliymiş"
   ]
  },
  {
   "cell_type": "code",
   "execution_count": null,
   "id": "cb8dec60",
   "metadata": {},
   "outputs": [],
   "source": []
  }
 ],
 "metadata": {
  "kernelspec": {
   "display_name": "Python 3 (ipykernel)",
   "language": "python",
   "name": "python3"
  },
  "language_info": {
   "codemirror_mode": {
    "name": "ipython",
    "version": 3
   },
   "file_extension": ".py",
   "mimetype": "text/x-python",
   "name": "python",
   "nbconvert_exporter": "python",
   "pygments_lexer": "ipython3",
   "version": "3.9.12"
  }
 },
 "nbformat": 4,
 "nbformat_minor": 5
}
